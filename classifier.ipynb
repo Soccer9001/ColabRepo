{
  "nbformat": 4,
  "nbformat_minor": 0,
  "metadata": {
    "colab": {
      "name": "classifier.ipynb",
      "private_outputs": true,
      "provenance": [],
      "collapsed_sections": [],
      "authorship_tag": "ABX9TyPq8ZtcxqfL2X3f8d/x2tXO",
      "include_colab_link": true
    },
    "kernelspec": {
      "name": "python3",
      "display_name": "Python 3"
    },
    "accelerator": "GPU"
  },
  "cells": [
    {
      "cell_type": "markdown",
      "metadata": {
        "id": "view-in-github",
        "colab_type": "text"
      },
      "source": [
        "<a href=\"https://colab.research.google.com/github/Soccer9001/ColabRepo/blob/main/classifier.ipynb\" target=\"_parent\"><img src=\"https://colab.research.google.com/assets/colab-badge.svg\" alt=\"Open In Colab\"/></a>"
      ]
    },
    {
      "cell_type": "code",
      "metadata": {
        "id": "s8eKAcWygnUO"
      },
      "source": [
        "from sklearn.datasets import load_iris\r\n",
        "import pandas as pd\r\n",
        "iris = load_iris()\r\n",
        "df = pd.DataFrame(iris[\"data\"],columns=iris[\"feature_names\"])\r\n",
        "df[\"ans\"] = iris[\"target\"]\r\n",
        "print(df)\r\n",
        "df.to_csv(\"iris.csv\", encoding=\"utf-8\",index = False)"
      ],
      "execution_count": null,
      "outputs": []
    },
    {
      "cell_type": "code",
      "metadata": {
        "id": "MbT2zAhTKa8a"
      },
      "source": [
        "import numpy as np\r\n",
        "from sklearn.model_selection import train_test_split\r\n",
        "x = df.drop([\"ans\"], axis = 1)\r\n",
        "y = df[\"ans\"]\r\n",
        "x,y = np.array(x), np.array(y)\r\n",
        "x_train, x_test, y_train, y_test = train_test_split(x,y,test_size=0.1)"
      ],
      "execution_count": null,
      "outputs": []
    },
    {
      "cell_type": "code",
      "metadata": {
        "id": "xaNXbUMvNa68"
      },
      "source": [
        "train_test_split([1,2,3,4],\r\n",
        "                 [5,6,7,8],\r\n",
        "                 [9,10,11,12],\r\n",
        "                 test_size=0.25)"
      ],
      "execution_count": null,
      "outputs": []
    },
    {
      "cell_type": "code",
      "metadata": {
        "id": "MT631WHTSoL8"
      },
      "source": [
        "from sklearn.tree import DecisionTreeClassifier\r\n",
        "clf = DecisionTreeClassifier(max_depth=2)\r\n",
        "clf.fit(x_train, y_train)"
      ],
      "execution_count": null,
      "outputs": []
    },
    {
      "cell_type": "code",
      "metadata": {
        "id": "a5x-6NRdTJep"
      },
      "source": [
        "import matplotlib.pyplot as plt\r\n",
        "from sklearn.tree import plot_tree\r\n",
        "plt.figure(figsize=(15,15))\r\n",
        "tree = plot_tree(clf,\r\n",
        "                 feature_names=iris[\"feature_names\"],\r\n",
        "                 class_names=iris[\"target_names\"],\r\n",
        "                                  filled=True)\r\n",
        "plt.show()"
      ],
      "execution_count": null,
      "outputs": []
    }
  ]
}
