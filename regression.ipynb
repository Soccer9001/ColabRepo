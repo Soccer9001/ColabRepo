{
  "nbformat": 4,
  "nbformat_minor": 0,
  "metadata": {
    "colab": {
      "name": "regression.ipynb",
      "private_outputs": true,
      "provenance": [],
      "collapsed_sections": [],
      "authorship_tag": "ABX9TyMFCtMWwlELerp3HMoOXA47",
      "include_colab_link": true
    },
    "kernelspec": {
      "name": "python3",
      "display_name": "Python 3"
    },
    "accelerator": "GPU"
  },
  "cells": [
    {
      "cell_type": "markdown",
      "metadata": {
        "id": "view-in-github",
        "colab_type": "text"
      },
      "source": [
        "<a href=\"https://colab.research.google.com/github/Soccer9001/ColabRepo/blob/main/regression.ipynb\" target=\"_parent\"><img src=\"https://colab.research.google.com/assets/colab-badge.svg\" alt=\"Open In Colab\"/></a>"
      ]
    },
    {
      "cell_type": "code",
      "metadata": {
        "id": "s8eKAcWygnUO"
      },
      "source": [
        "from sklearn.datasets import load_boston\r\n",
        "import pandas as pd\r\n",
        "boston = load_boston()\r\n",
        "df = pd.DataFrame(boston[\"data\"],columns=boston[\"feature_names\"])\r\n",
        "df[\"ans\"] = boston[\"target\"]\r\n",
        "print(df)\r\n",
        "df.to_csv(\"boston.csv\", encoding=\"utf-8\")"
      ],
      "execution_count": null,
      "outputs": []
    },
    {
      "cell_type": "code",
      "metadata": {
        "id": "MbT2zAhTKa8a"
      },
      "source": [
        "import numpy as np\r\n",
        "from sklearn.model_selection import train_test_split\r\n",
        "x = df.drop([\"ans\"], axis = 1)\r\n",
        "y = df[\"ans\"]\r\n",
        "x, y = np.array(x), np.array(y)\r\n",
        "x_train, x_test, y_train, y_test = train_test_split(x,y,test_size=0.1)"
      ],
      "execution_count": null,
      "outputs": []
    },
    {
      "cell_type": "code",
      "metadata": {
        "id": "MT631WHTSoL8"
      },
      "source": [
        "from sklearn.tree import DecisionTreeRegressor\r\n",
        "reg = DecisionTreeRegressor(max_depth=3)\r\n",
        "reg.fit(x_train, y_train)"
      ],
      "execution_count": null,
      "outputs": []
    },
    {
      "cell_type": "code",
      "metadata": {
        "id": "a5x-6NRdTJep"
      },
      "source": [
        "import matplotlib.pyplot as plt\r\n",
        "from sklearn.tree import plot_tree\r\n",
        "plt.figure(figsize=(15,15))\r\n",
        "tree = plot_tree(reg,\r\n",
        "                 feature_names=boston[\"feature_names\"],\r\n",
        "                 filled=True)\r\n",
        "plt.show()"
      ],
      "execution_count": null,
      "outputs": []
    },
    {
      "cell_type": "code",
      "metadata": {
        "id": "HfjaAe_7pR_s"
      },
      "source": [
        "from sklearn.metrics import r2_score\r\n",
        "pre = reg.predict(x_test)\r\n",
        "r2_score(y_test,pre)"
      ],
      "execution_count": null,
      "outputs": []
    }
  ]
}