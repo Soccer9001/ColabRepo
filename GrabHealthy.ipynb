{
  "nbformat": 4,
  "nbformat_minor": 0,
  "metadata": {
    "colab": {
      "name": "GrabHealthy.ipynb",
      "provenance": [],
      "collapsed_sections": [],
      "authorship_tag": "ABX9TyPS8BLOCQoLRRxs07MqUETs",
      "include_colab_link": true
    },
    "kernelspec": {
      "name": "python3",
      "display_name": "Python 3"
    }
  },
  "cells": [
    {
      "cell_type": "markdown",
      "metadata": {
        "id": "view-in-github",
        "colab_type": "text"
      },
      "source": [
        "<a href=\"https://colab.research.google.com/github/Soccer9001/ColabRepo/blob/main/GrabHealthy.ipynb\" target=\"_parent\"><img src=\"https://colab.research.google.com/assets/colab-badge.svg\" alt=\"Open In Colab\"/></a>"
      ]
    },
    {
      "cell_type": "code",
      "metadata": {
        "colab": {
          "base_uri": "https://localhost:8080/"
        },
        "id": "Rjo3nO-rkic5",
        "outputId": "78b887c8-b4e5-4105-c2e4-1dc694c29e93"
      },
      "source": [
        "from google.colab import drive\n",
        "drive.mount('/content/drive')"
      ],
      "execution_count": 1,
      "outputs": [
        {
          "output_type": "stream",
          "text": [
            "Mounted at /content/drive\n"
          ],
          "name": "stdout"
        }
      ]
    },
    {
      "cell_type": "code",
      "metadata": {
        "colab": {
          "base_uri": "https://localhost:8080/",
          "height": 245
        },
        "id": "mxnV54mS9iZ9",
        "outputId": "32fbc7a0-7c6a-4ede-c4ee-44e5ca4a73be"
      },
      "source": [
        "##Import modules\r\n",
        "from bs4 import BeautifulSoup\r\n",
        "from urllib.request import urlopen\r\n",
        "import re\r\n",
        "import pandas as pd\r\n",
        "\r\n",
        "def find_between( s, first, last ):\r\n",
        "    try:\r\n",
        "        start = s.index( first ) + len( first )\r\n",
        "        end = s.index( last, start )\r\n",
        "        return s[start:end]\r\n",
        "    except ValueError:\r\n",
        "        return \"\"\r\n",
        "\r\n",
        "##Grab the page\r\n",
        "\r\n",
        "datas = {\r\n",
        "    \"title\":[],\r\n",
        "    \"content\":[],\r\n",
        "    \"category\":[]\r\n",
        "}\r\n",
        "\r\n",
        "all_mode = True\r\n",
        "\r\n",
        "if all_mode:\r\n",
        "  end = 201\r\n",
        "  try:\r\n",
        "    with open('/content/drive/MyDrive/csvloca/savedata.txt') as f:\r\n",
        "      lines = f.readlines()\r\n",
        "      start = int(lines[0])\r\n",
        "    f.close()\r\n",
        "    data = pd.read_csv(\"/content/drive/MyDrive/csvloca/healthy.csv\")\r\n",
        "    data = data.values.tolist()\r\n",
        "    for x in range(0,len(data)):\r\n",
        "      datas[\"title\"].append(data[x][1])\r\n",
        "      datas[\"content\"].append(data[x][2])\r\n",
        "      datas[\"category\"].append(data[x][3])\r\n",
        "    view = pd.DataFrame(datas)\r\n",
        "    print(\"starting from \" + str(start))\r\n",
        "  except:\r\n",
        "    print(\"starting from scrath\")\r\n",
        "    start = 0\r\n",
        "else:\r\n",
        "  end = 300\r\n",
        "\r\n",
        "for t in range(200,end):\r\n",
        "  try:\r\n",
        "    if not all_mode:\r\n",
        "      url = \"https://www.edh.tw/category/\"+str(t)+\"/index/1\"\r\n",
        "      content = urlopen(url).read()\r\n",
        "      soup = BeautifulSoup(content)\r\n",
        "      straz0 = str(soup)\r\n",
        "      straz = straz0.replace('<div class=\"grid-article\"><a class=\"detail\" href=\"/article/',\"\")\r\n",
        "      straz2 = straz.replace('\">',\"\")\r\n",
        "      listb = [1280, 1, 2, 3, 4, 5, 6, 2020, 171493853013203, 2018, 2026]\r\n",
        "      listn = [int(s) for s in straz2.split() if s.isdigit() and int(s) not in listb]\r\n",
        "      #print(listn)\r\n",
        "    else:\r\n",
        "      listn = [*range(start+1, 100000)]\r\n",
        "    for x in listn:\r\n",
        "      try:\r\n",
        "        url = \"https://www.edh.tw/article/\" + str(x)\r\n",
        "        content = urlopen(url).read()\r\n",
        "        soup = BeautifulSoup(content)\r\n",
        "        stra = find_between(str(soup), '<article><div id=\"article_page\" itemprop=\"articleBody\">', '</div></article>' )\r\n",
        "        extra = find_between(str(stra), '【', '】' )\r\n",
        "        extra = '【' + extra + '】'\r\n",
        "        stra = stra.replace(extra,'')\r\n",
        "        stra = stra.replace('\\n',' ')\r\n",
        "        stra = stra.replace(\"yahoo_moments.init();\",\"\")\r\n",
        "        stra = re.sub('<[^>]+>', '', stra)\r\n",
        "        stra = re.sub(r'[^\\w]', ' ', stra)\r\n",
        "        datas[\"title\"].append(find_between(str(soup), \"<title>\", \"</title>\" ))\r\n",
        "        datas[\"content\"].append(stra)\r\n",
        "        datas[\"category\"].append(find_between(str(soup), \"'Category':'\", \"',\" ))\r\n",
        "        print(x)\r\n",
        "      except:\r\n",
        "        print(str(x) + \" No article exist!\")\r\n",
        "      if (x%1000) == 0 and all_mode:\r\n",
        "        print(\"Saving \" + str(x))\r\n",
        "        view = pd.DataFrame(datas)\r\n",
        "        view.to_csv('/content/drive/MyDrive/csvloca/healthy.csv')\r\n",
        "        f2 = open(\"/content/drive/MyDrive/csvloca/savedata.txt\", \"w\")\r\n",
        "        f2.write(str(x))\r\n",
        "        f2.close()\r\n",
        "    print(t)\r\n",
        "  except:\r\n",
        "    print(str(t) + \" No category exist!\")\r\n",
        "view = pd.DataFrame(datas)"
      ],
      "execution_count": 51,
      "outputs": [
        {
          "output_type": "stream",
          "text": [
            "starting from 100\n"
          ],
          "name": "stdout"
        },
        {
          "output_type": "error",
          "ename": "AssertionError",
          "evalue": "ignored",
          "traceback": [
            "\u001b[0;31m---------------------------------------------------------------------------\u001b[0m",
            "\u001b[0;31mAssertionError\u001b[0m                            Traceback (most recent call last)",
            "\u001b[0;32m<ipython-input-51-ee6a72897393>\u001b[0m in \u001b[0;36m<module>\u001b[0;34m()\u001b[0m\n\u001b[1;32m     44\u001b[0m   \u001b[0mend\u001b[0m \u001b[0;34m=\u001b[0m \u001b[0;36m300\u001b[0m\u001b[0;34m\u001b[0m\u001b[0;34m\u001b[0m\u001b[0m\n\u001b[1;32m     45\u001b[0m \u001b[0;34m\u001b[0m\u001b[0m\n\u001b[0;32m---> 46\u001b[0;31m \u001b[0;32massert\u001b[0m \u001b[0;32mFalse\u001b[0m\u001b[0;34m\u001b[0m\u001b[0;34m\u001b[0m\u001b[0m\n\u001b[0m\u001b[1;32m     47\u001b[0m \u001b[0;34m\u001b[0m\u001b[0m\n\u001b[1;32m     48\u001b[0m \u001b[0;32mfor\u001b[0m \u001b[0mt\u001b[0m \u001b[0;32min\u001b[0m \u001b[0mrange\u001b[0m\u001b[0;34m(\u001b[0m\u001b[0;36m200\u001b[0m\u001b[0;34m,\u001b[0m\u001b[0mend\u001b[0m\u001b[0;34m)\u001b[0m\u001b[0;34m:\u001b[0m\u001b[0;34m\u001b[0m\u001b[0;34m\u001b[0m\u001b[0m\n",
            "\u001b[0;31mAssertionError\u001b[0m: "
          ]
        }
      ]
    },
    {
      "cell_type": "code",
      "metadata": {
        "colab": {
          "base_uri": "https://localhost:8080/",
          "height": 526
        },
        "id": "j55WislLcCyv",
        "outputId": "3557f701-6c79-4f4d-a771-efe3efb0c7d6"
      },
      "source": [
        "pd.set_option('display.max_columns', None)\r\n",
        "pd.set_option('display.max_rows', None)\r\n",
        "view"
      ],
      "execution_count": 52,
      "outputs": [
        {
          "output_type": "execute_result",
          "data": {
            "text/html": [
              "<div>\n",
              "<style scoped>\n",
              "    .dataframe tbody tr th:only-of-type {\n",
              "        vertical-align: middle;\n",
              "    }\n",
              "\n",
              "    .dataframe tbody tr th {\n",
              "        vertical-align: top;\n",
              "    }\n",
              "\n",
              "    .dataframe thead th {\n",
              "        text-align: right;\n",
              "    }\n",
              "</style>\n",
              "<table border=\"1\" class=\"dataframe\">\n",
              "  <thead>\n",
              "    <tr style=\"text-align: right;\">\n",
              "      <th></th>\n",
              "      <th>title</th>\n",
              "      <th>content</th>\n",
              "      <th>category</th>\n",
              "    </tr>\n",
              "  </thead>\n",
              "  <tbody>\n",
              "    <tr>\n",
              "      <th>0</th>\n",
              "      <td>腎結石的原因與預防 |早安健康</td>\n",
              "      <td>腎結石   腎臟是身體的 主要藥劑師  它們不只會透過尿液排除身體的廢棄物和過多的液體 還能...</td>\n",
              "      <td>健康醫療</td>\n",
              "    </tr>\n",
              "    <tr>\n",
              "      <th>1</th>\n",
              "      <td>一天四餐雞肉減肥法. |早安健康</td>\n",
              "      <td>不需過度節食  1天4餐 照樣變瘦 市面上的減肥法多如牛毛 但是 多半不是太複雜 就是太過理...</td>\n",
              "      <td>健康瘦身</td>\n",
              "    </tr>\n",
              "    <tr>\n",
              "      <th>2</th>\n",
              "      <td>站1分鐘練臀腿！研究：2件事讓你多燒12萬卡熱量 |早安健康</td>\n",
              "      <td>你能單腳站立一分鐘嗎    隨處可做的運動建議 本來就喜歡運動 在學校時當過校隊的人 我想很...</td>\n",
              "      <td>健康話題</td>\n",
              "    </tr>\n",
              "    <tr>\n",
              "      <th>3</th>\n",
              "      <td>小心！錯誤觀念，水果越吃越胖！ |早安健康</td>\n",
              "      <td>你可知道 水果很有可能是造成發胖的元凶    一位長年都在與體重對抗的朋友 氣憤地和我說  ...</td>\n",
              "      <td>健康瘦身</td>\n",
              "    </tr>\n",
              "    <tr>\n",
              "      <th>4</th>\n",
              "      <td>【熱門好書】人體使用手冊：兒童保健 |早安健康</td>\n",
              "      <td>根據一份登載在 基因組研究 的研究報告 一個成人口腔裡的細菌平均有600多種 就像每一個...</td>\n",
              "      <td>身心健康</td>\n",
              "    </tr>\n",
              "    <tr>\n",
              "      <th>5</th>\n",
              "      <td>吃真正的好食物 |早安健康</td>\n",
              "      <td>了解越多越會發現食物的價格 太便宜  我因為工作關係 經常有機會去拜訪食品的生產現場 但是當...</td>\n",
              "      <td>健康話題</td>\n",
              "    </tr>\n",
              "    <tr>\n",
              "      <th>6</th>\n",
              "      <td>【熱門好書】李鳳山飪養之道 |早安健康</td>\n",
              "      <td>春季調養 肝膽相照 依照中醫五行及臟象理論 春天是肝臟氣血旺盛之時  肝 是人體五臟之一 ...</td>\n",
              "      <td>中醫健康</td>\n",
              "    </tr>\n",
              "    <tr>\n",
              "      <th>7</th>\n",
              "      <td>【熱門好書】食物的真相 |早安健康</td>\n",
              "      <td>你一定要知道的食物真相  為什麼你的好友食量驚人 卻能維持優雅結實的身材 為什麼妹妹隨便吃個...</td>\n",
              "      <td>健康話題</td>\n",
              "    </tr>\n",
              "    <tr>\n",
              "      <th>8</th>\n",
              "      <td>我的安心餐桌 |早安健康</td>\n",
              "      <td>48歲一場大病 人生改變  想吃魚 需要自己養魚嗎  大部分的人初次聽到天和鮮物董事長劉天和...</td>\n",
              "      <td>健康話題</td>\n",
              "    </tr>\n",
              "    <tr>\n",
              "      <th>9</th>\n",
              "      <td>燃脂辣雞沙拉 |早安健康</td>\n",
              "      <td>食譜 肌力辣雞沙拉  熱量 370Kcal 材料 雞胸肉100g 蒜末5g 料理酒5ml...</td>\n",
              "      <td>聰明飲食</td>\n",
              "    </tr>\n",
              "    <tr>\n",
              "      <th>10</th>\n",
              "      <td>碳烤菲力雞排 |早安健康</td>\n",
              "      <td>食譜 碳烤菲力雞排 熱量  354kcal 材料 雞腰內肉100g 小番茄70g 蒜末5...</td>\n",
              "      <td>聰明飲食</td>\n",
              "    </tr>\n",
              "  </tbody>\n",
              "</table>\n",
              "</div>"
            ],
            "text/plain": [
              "                             title  \\\n",
              "0                  腎結石的原因與預防 |早安健康   \n",
              "1                 一天四餐雞肉減肥法. |早安健康   \n",
              "2   站1分鐘練臀腿！研究：2件事讓你多燒12萬卡熱量 |早安健康   \n",
              "3            小心！錯誤觀念，水果越吃越胖！ |早安健康   \n",
              "4          【熱門好書】人體使用手冊：兒童保健 |早安健康   \n",
              "5                    吃真正的好食物 |早安健康   \n",
              "6              【熱門好書】李鳳山飪養之道 |早安健康   \n",
              "7                【熱門好書】食物的真相 |早安健康   \n",
              "8                     我的安心餐桌 |早安健康   \n",
              "9                     燃脂辣雞沙拉 |早安健康   \n",
              "10                    碳烤菲力雞排 |早安健康   \n",
              "\n",
              "                                              content category  \n",
              "0   腎結石   腎臟是身體的 主要藥劑師  它們不只會透過尿液排除身體的廢棄物和過多的液體 還能...     健康醫療  \n",
              "1   不需過度節食  1天4餐 照樣變瘦 市面上的減肥法多如牛毛 但是 多半不是太複雜 就是太過理...     健康瘦身  \n",
              "2   你能單腳站立一分鐘嗎    隨處可做的運動建議 本來就喜歡運動 在學校時當過校隊的人 我想很...     健康話題  \n",
              "3   你可知道 水果很有可能是造成發胖的元凶    一位長年都在與體重對抗的朋友 氣憤地和我說  ...     健康瘦身  \n",
              "4     根據一份登載在 基因組研究 的研究報告 一個成人口腔裡的細菌平均有600多種 就像每一個...     身心健康  \n",
              "5   了解越多越會發現食物的價格 太便宜  我因為工作關係 經常有機會去拜訪食品的生產現場 但是當...     健康話題  \n",
              "6    春季調養 肝膽相照 依照中醫五行及臟象理論 春天是肝臟氣血旺盛之時  肝 是人體五臟之一 ...     中醫健康  \n",
              "7   你一定要知道的食物真相  為什麼你的好友食量驚人 卻能維持優雅結實的身材 為什麼妹妹隨便吃個...     健康話題  \n",
              "8   48歲一場大病 人生改變  想吃魚 需要自己養魚嗎  大部分的人初次聽到天和鮮物董事長劉天和...     健康話題  \n",
              "9     食譜 肌力辣雞沙拉  熱量 370Kcal 材料 雞胸肉100g 蒜末5g 料理酒5ml...     聰明飲食  \n",
              "10    食譜 碳烤菲力雞排 熱量  354kcal 材料 雞腰內肉100g 小番茄70g 蒜末5...     聰明飲食  "
            ]
          },
          "metadata": {
            "tags": []
          },
          "execution_count": 52
        }
      ]
    },
    {
      "cell_type": "code",
      "metadata": {
        "id": "v-c0CitoYE6Q"
      },
      "source": [
        ""
      ],
      "execution_count": null,
      "outputs": []
    }
  ]
}