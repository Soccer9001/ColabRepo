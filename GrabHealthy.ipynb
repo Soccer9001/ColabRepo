{
  "nbformat": 4,
  "nbformat_minor": 0,
  "metadata": {
    "colab": {
      "name": "GrabHealthy.ipynb",
      "provenance": [],
      "collapsed_sections": [],
      "authorship_tag": "ABX9TyMTS++c/uMDTSMzE5xorOpH",
      "include_colab_link": true
    },
    "kernelspec": {
      "name": "python3",
      "display_name": "Python 3"
    }
  },
  "cells": [
    {
      "cell_type": "markdown",
      "metadata": {
        "id": "view-in-github",
        "colab_type": "text"
      },
      "source": [
        "<a href=\"https://colab.research.google.com/github/Soccer9001/ColabRepo/blob/main/GrabHealthy.ipynb\" target=\"_parent\"><img src=\"https://colab.research.google.com/assets/colab-badge.svg\" alt=\"Open In Colab\"/></a>"
      ]
    },
    {
      "cell_type": "code",
      "metadata": {
        "colab": {
          "base_uri": "https://localhost:8080/"
        },
        "id": "mxnV54mS9iZ9",
        "outputId": "ca3eb760-0ac3-415b-fb34-d8480ef6aa4a"
      },
      "source": [
        "##Import modules\r\n",
        "from bs4 import BeautifulSoup\r\n",
        "from urllib.request import urlopen\r\n",
        "import re\r\n",
        "import pandas as pd\r\n",
        "\r\n",
        "def find_between( s, first, last ):\r\n",
        "    try:\r\n",
        "        start = s.index( first ) + len( first )\r\n",
        "        end = s.index( last, start )\r\n",
        "        return s[start:end]\r\n",
        "    except ValueError:\r\n",
        "        return \"\"\r\n",
        "\r\n",
        "##Grab the page\r\n",
        "\r\n",
        "datas = {\r\n",
        "    \"title\":[],\r\n",
        "    \"content\":[],\r\n",
        "    \"category\":[]\r\n",
        "}\r\n",
        "\r\n",
        "\r\n",
        "\r\n",
        "for t in range (200,201):\r\n",
        "  try:\r\n",
        "    url = \"https://www.edh.tw/category/\"+str(t)+\"/index/1\"\r\n",
        "    #url = \"https://www.edh.tw/article/\" + str(x)\r\n",
        "    content = urlopen(url).read()\r\n",
        "    soup = BeautifulSoup(content)\r\n",
        "    straz0 = str(soup)\r\n",
        "    straz = straz0.replace('<div class=\"grid-article\"><a class=\"detail\" href=\"/article/',\"\")\r\n",
        "    straz2 = straz.replace('\">',\"\")\r\n",
        "    listn = [int(s) for s in straz2.split() if s.isdigit() and int(s) < 100000 and int(s) > 9999]\r\n",
        "    #print(listn)\r\n",
        "    #print(find_between(str(soup), '<div class=\"grid-article\"><a class=\"detail\" href=\"/article/', '\">' ))\r\n",
        "    for x in range(0,100000):\r\n",
        "      try:\r\n",
        "        url = \"https://www.edh.tw/article/\" + str(x)\r\n",
        "        content = urlopen(url).read()\r\n",
        "        soup = BeautifulSoup(content)\r\n",
        "        stra = find_between(str(soup), '<article><div id=\"article_page\" itemprop=\"articleBody\">', '</div></article>' )\r\n",
        "        extra = find_between(str(stra), '【', '】' )\r\n",
        "        extra = '【' + extra + '】'\r\n",
        "        stra = stra.replace(extra,'')\r\n",
        "        stra = stra.replace('\\n',' ')\r\n",
        "        stra = stra.replace(\"yahoo_moments.init();\",\"\")\r\n",
        "        stra = re.sub('<[^>]+>', '', stra)\r\n",
        "        stra = re.sub(r'[^\\w]', ' ', stra)\r\n",
        "        datas[\"title\"].append(find_between(str(soup), \"<title>\", \"</title>\" ))\r\n",
        "        datas[\"content\"].append(stra)\r\n",
        "        datas[\"category\"].append(find_between(str(soup), \"'Category':'\", \"',\" ))\r\n",
        "        print(x)\r\n",
        "      except:\r\n",
        "        print(\"No article exist!\")\r\n",
        "    print(t)\r\n",
        "  except:\r\n",
        "    print(\"No category exist!\")\r\n",
        "view = pd.DataFrame(datas)"
      ],
      "execution_count": null,
      "outputs": [
        {
          "output_type": "stream",
          "text": [
            "No article exist!\n",
            "No article exist!\n",
            "No article exist!\n",
            "No article exist!\n",
            "No article exist!\n",
            "No article exist!\n",
            "No article exist!\n",
            "No article exist!\n",
            "No article exist!\n",
            "No article exist!\n",
            "No article exist!\n",
            "No article exist!\n",
            "No article exist!\n",
            "No article exist!\n",
            "14\n",
            "No article exist!\n",
            "No article exist!\n",
            "No article exist!\n",
            "No article exist!\n",
            "No article exist!\n",
            "20\n",
            "No article exist!\n",
            "No article exist!\n",
            "No article exist!\n",
            "No article exist!\n",
            "No article exist!\n",
            "No article exist!\n",
            "No article exist!\n",
            "No article exist!\n",
            "No article exist!\n",
            "No article exist!\n",
            "No article exist!\n",
            "No article exist!\n",
            "No article exist!\n",
            "No article exist!\n",
            "No article exist!\n",
            "No article exist!\n",
            "No article exist!\n",
            "No article exist!\n",
            "No article exist!\n",
            "No article exist!\n",
            "No article exist!\n",
            "No article exist!\n",
            "No article exist!\n",
            "No article exist!\n",
            "No article exist!\n",
            "No article exist!\n",
            "No article exist!\n",
            "No article exist!\n",
            "No article exist!\n",
            "No article exist!\n",
            "No article exist!\n",
            "No article exist!\n",
            "No article exist!\n",
            "No article exist!\n",
            "No article exist!\n",
            "No article exist!\n",
            "No article exist!\n",
            "58\n",
            "No article exist!\n",
            "No article exist!\n",
            "No article exist!\n",
            "No article exist!\n",
            "No article exist!\n",
            "64\n",
            "65\n",
            "No article exist!\n",
            "No article exist!\n",
            "No article exist!\n",
            "No article exist!\n",
            "No article exist!\n",
            "No article exist!\n",
            "No article exist!\n",
            "No article exist!\n",
            "No article exist!\n",
            "No article exist!\n",
            "No article exist!\n",
            "No article exist!\n",
            "78\n",
            "No article exist!\n",
            "No article exist!\n",
            "No article exist!\n",
            "No article exist!\n",
            "No article exist!\n",
            "No article exist!\n",
            "85\n",
            "No article exist!\n",
            "No article exist!\n",
            "No article exist!\n",
            "No article exist!\n",
            "No article exist!\n",
            "91\n",
            "No article exist!\n",
            "No article exist!\n",
            "94\n",
            "No article exist!\n",
            "No article exist!\n",
            "No article exist!\n",
            "98\n",
            "No article exist!\n",
            "No article exist!\n",
            "No article exist!\n",
            "No article exist!\n",
            "103\n",
            "No article exist!\n",
            "No article exist!\n",
            "No article exist!\n",
            "No article exist!\n",
            "108\n",
            "No article exist!\n",
            "No article exist!\n"
          ],
          "name": "stdout"
        }
      ]
    },
    {
      "cell_type": "code",
      "metadata": {
        "colab": {
          "base_uri": "https://localhost:8080/",
          "height": 202
        },
        "id": "j55WislLcCyv",
        "outputId": "f0459ee4-976f-4b1e-c2c8-b3a4e59f6be5"
      },
      "source": [
        "pd.set_option('display.max_columns', None)\r\n",
        "pd.set_option('display.max_rows', None)\r\n",
        "view[\"content\"][0]"
      ],
      "execution_count": null,
      "outputs": [
        {
          "output_type": "execute_result",
          "data": {
            "application/vnd.google.colaboratory.intrinsic+json": {
              "type": "string"
            },
            "text/plain": [
              "'許多人可能都曾聽過 指甲有黑線或指甲變黑可能是皮膚癌的徵兆 這類的論述 從而擔心起自己的身體狀況    不過 先不用緊張 日本皮膚科醫師野田雅史認為 絕大多數指甲變黑的情況是重症的機會很少 大多數都沒什麼太大的問題 以下將舉例幾個以指甲變黑為主為表徵的狀況之原因與應對方法 治療法     甲下血腫 指甲下方血塊積聚     最常見的指甲發黑症狀非甲下血腫莫屬 成因是指甲和甲床 指甲下方的皮膚 之間血液積聚所引起 通常是指甲遭受強力鈍性撞擊 或者穿了不適宜的鞋子進行爬山 馬拉松等強力運動後 又或者手指被門夾到後 等狀況所導致 它的特徵是指甲大範圍的突然變黑 但依程度不同 範圍會有部分變黑或整個指甲變黑 顏色會有黑色或部分紅色之分     甲下血腫的治療法  傷口良好 等待黑色部分被推出即可   如果手指被門夾到或受到強力撞擊 可能會覺得刺痛發麻 但通常大多數的情況是無症狀的 因此也不需特別治療 若狀況看起來良好 即使是腳趾甲 等待2 3個月後黑色的部分也會隨著指甲的生長而被推出 大多數半年左右黑色的部分就會全部消失     好痛 請醫師排除  感到疼痛的話先將患部冷卻 若血液在甲床積聚太多 或是指甲下可能有傷口或累積了很多膿 需要盡早去皮膚科給醫師處理 如果因為血液積聚而導致受到壓迫 則需要請醫生將血液引流排除 若有感染的疑慮則可採用抗生素治療    日本千葉愛友會紀念醫院整形外科也指出 當患者疼痛難耐 甚至晚上難以入眠時 可至醫院請醫師協助處置 在指甲上開一個洞後將血液排出 就可以迅速減輕疼痛 醫師可以採取兩種治療方式 其一為用針在指甲上鑽洞 其二是用燒紅的醫療器材一口氣熔掉指甲 兩者手術方式均沒有想像中那麼痛 且由於已嚴重到需要排除血液 也可能會有指頭骨折的狀況 可以照X光進行確認    編輯推薦 腳指甲不是灰色才有問題 腳趾甲顏色一秒看出肝腎 甲狀腺生病的線索     指甲掉了怎麼辦 勿強行剝除  此外 如果指甲與甲床之間累積的血量太多 可能會導致指甲剝落 此時 不要硬把指甲剝除 應該等待指甲自然掉落 如果因為指甲浮起的狀況 而產生被襪子夾住等狀況 應前往皮膚科請醫生處理 指甲剝除後可能會短時間指甲變形 不過通常等一陣子 原本正常的指甲就會重新長出來     指甲變黑還可能是出了哪些問題 下一頁了解這些不是癌症卻讓人心煩的原因  '"
            ]
          },
          "metadata": {
            "tags": []
          },
          "execution_count": 15
        }
      ]
    },
    {
      "cell_type": "code",
      "metadata": {
        "id": "v-c0CitoYE6Q"
      },
      "source": [
        ""
      ],
      "execution_count": null,
      "outputs": []
    }
  ]
}