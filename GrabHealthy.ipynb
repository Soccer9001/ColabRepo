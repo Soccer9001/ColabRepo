{
  "nbformat": 4,
  "nbformat_minor": 0,
  "metadata": {
    "colab": {
      "name": "GrabHealthy.ipynb",
      "provenance": [],
      "collapsed_sections": [],
      "authorship_tag": "ABX9TyPJudB+rPwA8I4n6ynlJH1u",
      "include_colab_link": true
    },
    "kernelspec": {
      "name": "python3",
      "display_name": "Python 3"
    }
  },
  "cells": [
    {
      "cell_type": "markdown",
      "metadata": {
        "id": "view-in-github",
        "colab_type": "text"
      },
      "source": [
        "<a href=\"https://colab.research.google.com/github/Soccer9001/ColabRepo/blob/main/GrabHealthy.ipynb\" target=\"_parent\"><img src=\"https://colab.research.google.com/assets/colab-badge.svg\" alt=\"Open In Colab\"/></a>"
      ]
    },
    {
      "cell_type": "code",
      "metadata": {
        "id": "mxnV54mS9iZ9"
      },
      "source": [
        "##Import modules\r\n",
        "from bs4 import BeautifulSoup\r\n",
        "from urllib.request import urlopen\r\n",
        "import re\r\n",
        "import pandas as pd\r\n",
        "\r\n",
        "def find_between( s, first, last ):\r\n",
        "    try:\r\n",
        "        start = s.index( first ) + len( first )\r\n",
        "        end = s.index( last, start )\r\n",
        "        return s[start:end]\r\n",
        "    except ValueError:\r\n",
        "        return \"\"\r\n",
        "\r\n",
        "##Grab the page\r\n",
        "\r\n",
        "datas = {\r\n",
        "    \"title\":[],\r\n",
        "    \"content\":[],\r\n",
        "    \"category\":[]\r\n",
        "}\r\n",
        "\r\n",
        "\r\n",
        "\r\n",
        "for t in range (200,300):\r\n",
        "  try:\r\n",
        "    url = \"https://www.edh.tw/category/\"+str(t)+\"/index/1\"\r\n",
        "    #url = \"https://www.edh.tw/article/\" + str(x)\r\n",
        "    content = urlopen(url).read()\r\n",
        "    soup = BeautifulSoup(content)\r\n",
        "    straz0 = str(soup)\r\n",
        "    straz = straz0.replace('<div class=\"grid-article\"><a class=\"detail\" href=\"/article/',\"\")\r\n",
        "    straz2 = straz.replace('\">',\"\")\r\n",
        "    listb = [1280, 1, 2, 3, 4, 5, 6, 2020, 171493853013203]\r\n",
        "    listn = [int(s) for s in straz2.split() if s.isdigit() and int(s) not in listb]\r\n",
        "    #print(listn)\r\n",
        "    #print(find_between(str(soup), '<div class=\"grid-article\"><a class=\"detail\" href=\"/article/', '\">' ))\r\n",
        "    for x in listn:\r\n",
        "      try:\r\n",
        "        url = \"https://www.edh.tw/article/\" + str(x)\r\n",
        "        content = urlopen(url).read()\r\n",
        "        soup = BeautifulSoup(content)\r\n",
        "        stra = find_between(str(soup), '<article><div id=\"article_page\" itemprop=\"articleBody\">', '</div></article>' )\r\n",
        "        extra = find_between(str(stra), '【', '】' )\r\n",
        "        extra = '【' + extra + '】'\r\n",
        "        stra = stra.replace(extra,'')\r\n",
        "        stra = stra.replace('\\n',' ')\r\n",
        "        stra = stra.replace(\"yahoo_moments.init();\",\"\")\r\n",
        "        stra = re.sub('<[^>]+>', '', stra)\r\n",
        "        stra = re.sub(r'[^\\w]', ' ', stra)\r\n",
        "        datas[\"title\"].append(find_between(str(soup), \"<title>\", \"</title>\" ))\r\n",
        "        datas[\"content\"].append(stra)\r\n",
        "        datas[\"category\"].append(find_between(str(soup), \"'Category':'\", \"',\" ))\r\n",
        "        print(x)\r\n",
        "      except:\r\n",
        "        print(str(x) + \" No article exist!\")\r\n",
        "    print(t)\r\n",
        "  except:\r\n",
        "    print(str(t) + \" No category exist!\")\r\n",
        "view = pd.DataFrame(datas)"
      ],
      "execution_count": null,
      "outputs": []
    },
    {
      "cell_type": "code",
      "metadata": {
        "id": "j55WislLcCyv"
      },
      "source": [
        "pd.set_option('display.max_columns', None)\r\n",
        "pd.set_option('display.max_rows', None)\r\n",
        "view"
      ],
      "execution_count": null,
      "outputs": []
    },
    {
      "cell_type": "code",
      "metadata": {
        "id": "v-c0CitoYE6Q"
      },
      "source": [
        ""
      ],
      "execution_count": null,
      "outputs": []
    }
  ]
}